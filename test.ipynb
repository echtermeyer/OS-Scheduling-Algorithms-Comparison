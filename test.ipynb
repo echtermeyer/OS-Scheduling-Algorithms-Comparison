{
 "cells": [
  {
   "cell_type": "code",
   "execution_count": 3,
   "metadata": {},
   "outputs": [],
   "source": [
    "process_sizes = [2, 3, 5, 1, 1, 2]\n",
    "\n",
    "steps = [\n",
    "    {\"id\": i + 1, \"start\": sum(process_sizes[:i]), \"size\": process_sizes[i]}\n",
    "    for i in range(len(process_sizes))\n",
    "]\n",
    "steps.append({\"id\": len(steps) + 1, \"start\": sum(process_sizes), \"size\": 2})"
   ]
  },
  {
   "cell_type": "code",
   "execution_count": 4,
   "metadata": {},
   "outputs": [
    {
     "data": {
      "text/plain": [
       "[{'id': 1, 'start': 0, 'size': 2},\n",
       " {'id': 2, 'start': 2, 'size': 3},\n",
       " {'id': 3, 'start': 5, 'size': 5},\n",
       " {'id': 4, 'start': 10, 'size': 1},\n",
       " {'id': 5, 'start': 11, 'size': 1},\n",
       " {'id': 6, 'start': 12, 'size': 2},\n",
       " {'id': 7, 'start': 14, 'size': 2}]"
      ]
     },
     "execution_count": 4,
     "metadata": {},
     "output_type": "execute_result"
    }
   ],
   "source": [
    "steps"
   ]
  },
  {
   "cell_type": "code",
   "execution_count": 5,
   "metadata": {},
   "outputs": [],
   "source": [
    "PROCESS_SIZES_FCFS = [2, 3, 5, 1, 1, 2]\n",
    "ADDITIONAL_PROCESS_FCFS = 2\n",
    "PROCESS_SIZES_RR = PROCESS_SIZES_FCFS\n",
    "ADDITIONAL_PROCESS_RR = ADDITIONAL_PROCESS_FCFS"
   ]
  },
  {
   "cell_type": "code",
   "execution_count": 7,
   "metadata": {},
   "outputs": [],
   "source": [
    "steps = [\n",
    "    {\n",
    "        \"id\": id + 1,\n",
    "        \"start\": id + i,\n",
    "        \"size\": 1,\n",
    "    }\n",
    "    for id, size in enumerate(PROCESS_SIZES_RR)\n",
    "    for i in range(size)\n",
    "]"
   ]
  },
  {
   "cell_type": "code",
   "execution_count": 20,
   "metadata": {},
   "outputs": [],
   "source": [
    "processes = {}\n",
    "for idx, i in enumerate(PROCESS_SIZES_RR):\n",
    "    processes[idx + 1] = i"
   ]
  },
  {
   "cell_type": "code",
   "execution_count": 21,
   "metadata": {},
   "outputs": [],
   "source": [
    "queue = []\n",
    "for process in processes:\n",
    "    queue.append(process)"
   ]
  },
  {
   "cell_type": "code",
   "execution_count": 22,
   "metadata": {},
   "outputs": [],
   "source": [
    "steps = []\n",
    "for i in range(sum(PROCESS_SIZES_RR)):\n",
    "    process = queue.pop(0)\n",
    "    processes[process] -= 1\n",
    "    steps.append({\"id\": process, \"start\": i, \"size\": 1})\n",
    "    if processes[process] > 0:\n",
    "        queue.append(process)\n"
   ]
  },
  {
   "cell_type": "code",
   "execution_count": 23,
   "metadata": {},
   "outputs": [
    {
     "data": {
      "text/plain": [
       "14"
      ]
     },
     "execution_count": 23,
     "metadata": {},
     "output_type": "execute_result"
    }
   ],
   "source": [
    "sum(PROCESS_SIZES_RR)"
   ]
  },
  {
   "cell_type": "code",
   "execution_count": 29,
   "metadata": {},
   "outputs": [
    {
     "data": {
      "text/plain": [
       "4"
      ]
     },
     "execution_count": 29,
     "metadata": {},
     "output_type": "execute_result"
    }
   ],
   "source": [
    "3+True"
   ]
  },
  {
   "cell_type": "code",
   "execution_count": 24,
   "metadata": {},
   "outputs": [
    {
     "data": {
      "text/plain": [
       "[{'id': 1, 'start': 0, 'size': 1},\n",
       " {'id': 2, 'start': 1, 'size': 1},\n",
       " {'id': 3, 'start': 2, 'size': 1},\n",
       " {'id': 4, 'start': 3, 'size': 1},\n",
       " {'id': 5, 'start': 4, 'size': 1},\n",
       " {'id': 6, 'start': 5, 'size': 1},\n",
       " {'id': 1, 'start': 6, 'size': 1},\n",
       " {'id': 2, 'start': 7, 'size': 1},\n",
       " {'id': 3, 'start': 8, 'size': 1},\n",
       " {'id': 6, 'start': 9, 'size': 1},\n",
       " {'id': 2, 'start': 10, 'size': 1},\n",
       " {'id': 3, 'start': 11, 'size': 1},\n",
       " {'id': 3, 'start': 12, 'size': 1},\n",
       " {'id': 3, 'start': 13, 'size': 1}]"
      ]
     },
     "execution_count": 24,
     "metadata": {},
     "output_type": "execute_result"
    }
   ],
   "source": [
    "steps"
   ]
  },
  {
   "cell_type": "code",
   "execution_count": 25,
   "metadata": {},
   "outputs": [],
   "source": [
    "steps.insert(8, {\"id\": 7, \"start\": 8, \"size\": 1})"
   ]
  },
  {
   "cell_type": "code",
   "execution_count": 26,
   "metadata": {},
   "outputs": [
    {
     "data": {
      "text/plain": [
       "[{'id': 1, 'start': 0, 'size': 1},\n",
       " {'id': 2, 'start': 1, 'size': 1},\n",
       " {'id': 3, 'start': 2, 'size': 1},\n",
       " {'id': 4, 'start': 3, 'size': 1},\n",
       " {'id': 5, 'start': 4, 'size': 1},\n",
       " {'id': 6, 'start': 5, 'size': 1},\n",
       " {'id': 1, 'start': 6, 'size': 1},\n",
       " {'id': 2, 'start': 7, 'size': 1},\n",
       " {'id': 7, 'start': 8, 'size': 1},\n",
       " {'id': 3, 'start': 8, 'size': 1},\n",
       " {'id': 6, 'start': 9, 'size': 1},\n",
       " {'id': 2, 'start': 10, 'size': 1},\n",
       " {'id': 3, 'start': 11, 'size': 1},\n",
       " {'id': 3, 'start': 12, 'size': 1},\n",
       " {'id': 3, 'start': 13, 'size': 1}]"
      ]
     },
     "execution_count": 26,
     "metadata": {},
     "output_type": "execute_result"
    }
   ],
   "source": [
    "steps"
   ]
  },
  {
   "cell_type": "code",
   "execution_count": 27,
   "metadata": {},
   "outputs": [],
   "source": [
    "for idx, step in enumerate(steps):\n",
    "    if idx >8:\n",
    "        step[\"start\"] += 1"
   ]
  },
  {
   "cell_type": "code",
   "execution_count": 28,
   "metadata": {},
   "outputs": [
    {
     "data": {
      "text/plain": [
       "[{'id': 1, 'start': 0, 'size': 1},\n",
       " {'id': 2, 'start': 1, 'size': 1},\n",
       " {'id': 3, 'start': 2, 'size': 1},\n",
       " {'id': 4, 'start': 3, 'size': 1},\n",
       " {'id': 5, 'start': 4, 'size': 1},\n",
       " {'id': 6, 'start': 5, 'size': 1},\n",
       " {'id': 1, 'start': 6, 'size': 1},\n",
       " {'id': 2, 'start': 7, 'size': 1},\n",
       " {'id': 7, 'start': 8, 'size': 1},\n",
       " {'id': 3, 'start': 9, 'size': 1},\n",
       " {'id': 6, 'start': 10, 'size': 1},\n",
       " {'id': 2, 'start': 11, 'size': 1},\n",
       " {'id': 3, 'start': 12, 'size': 1},\n",
       " {'id': 3, 'start': 13, 'size': 1},\n",
       " {'id': 3, 'start': 14, 'size': 1}]"
      ]
     },
     "execution_count": 28,
     "metadata": {},
     "output_type": "execute_result"
    }
   ],
   "source": [
    "steps"
   ]
  },
  {
   "cell_type": "code",
   "execution_count": 30,
   "metadata": {},
   "outputs": [],
   "source": [
    "from src.algorithms import *"
   ]
  },
  {
   "cell_type": "code",
   "execution_count": null,
   "metadata": {},
   "outputs": [],
   "source": [
    "processes = [Process(id =1, arrival_time=0, burst_time=2),\n",
    "                Process(id =2, arrival_time=0, burst_time=3),\n",
    "                Process(id =3, arrival_time=0, burst_time=5),\n",
    "                Process(id =4, arrival_time=0, burst_time=1),\n",
    "                Process(id =5, arrival_time=0, burst_time=1),\n",
    "                Process(id =6, arrival_time=0, burst_time=2),\n",
    "                Process(id =7, arrival_time=8, burst_time=2),\n",
    "\n",
    "]\n",
    "rr = RoundRobin(quantum=1)\n",
    "steps = schedule_processes(rr, processes)"
   ]
  },
  {
   "cell_type": "code",
   "execution_count": 32,
   "metadata": {},
   "outputs": [
    {
     "data": {
      "text/plain": [
       "[{'id': 1, 'start': 0, 'size': 1},\n",
       " {'id': 2, 'start': 1, 'size': 1},\n",
       " {'id': 3, 'start': 2, 'size': 1},\n",
       " {'id': 4, 'start': 3, 'size': 1},\n",
       " {'id': 5, 'start': 4, 'size': 1},\n",
       " {'id': 6, 'start': 5, 'size': 1},\n",
       " {'id': 7, 'start': 8, 'size': 1},\n",
       " {'id': 1, 'start': 9, 'size': 1},\n",
       " {'id': 2, 'start': 10, 'size': 1},\n",
       " {'id': 3, 'start': 11, 'size': 1},\n",
       " {'id': 6, 'start': 12, 'size': 1},\n",
       " {'id': 7, 'start': 13, 'size': 1},\n",
       " {'id': 2, 'start': 14, 'size': 1},\n",
       " {'id': 3, 'start': 15, 'size': 3}]"
      ]
     },
     "execution_count": 32,
     "metadata": {},
     "output_type": "execute_result"
    }
   ],
   "source": [
    "steps"
   ]
  }
 ],
 "metadata": {
  "kernelspec": {
   "display_name": "py312",
   "language": "python",
   "name": "python3"
  },
  "language_info": {
   "codemirror_mode": {
    "name": "ipython",
    "version": 3
   },
   "file_extension": ".py",
   "mimetype": "text/x-python",
   "name": "python",
   "nbconvert_exporter": "python",
   "pygments_lexer": "ipython3",
   "version": "3.12.0"
  }
 },
 "nbformat": 4,
 "nbformat_minor": 2
}
