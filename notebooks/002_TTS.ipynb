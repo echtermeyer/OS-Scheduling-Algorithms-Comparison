{
 "cells": [
  {
   "cell_type": "code",
   "execution_count": 1,
   "metadata": {},
   "outputs": [],
   "source": [
    "from pathlib import Path\n",
    "from openai import OpenAI\n",
    "\n",
    "from dotenv import load_dotenv\n",
    "load_dotenv()\n",
    "\n",
    "client = OpenAI()"
   ]
  },
  {
   "cell_type": "code",
   "execution_count": 8,
   "metadata": {},
   "outputs": [
    {
     "data": {
      "text/plain": [
       "PosixPath('/Users/ericechtermeyer/Library/CloudStorage/OneDrive-Personal/Dokumente/DHBW/Semester 5/Integrationsseminar/OS-Scheduling-Algorithms-Comparison/voice/metrics_2_0.mp3')"
      ]
     },
     "execution_count": 8,
     "metadata": {},
     "output_type": "execute_result"
    }
   ],
   "source": [
    "speech_file_path = Path().cwd().parent / \"voice/metrics_2_0.mp3\"\n",
    "speech_file_path"
   ]
  },
  {
   "cell_type": "code",
   "execution_count": 9,
   "metadata": {},
   "outputs": [],
   "source": [
    "text = \"\"\"\n",
    "Now, let's talk about how fair these scheduling algorithms are to each process and the number of context switches required. Think of unfairness as how unevenly processes have to wait. We measure this using the unfairness score, which is the standard deviation of waiting times. A high score means some processes wait a lot longer than others.\n",
    "\n",
    "Then, there's context switches - basically, how often the CPU stops working on one process to switch to another. Fewer switches mean the system is more efficient, as each switch takes time and resources.\"\"\""
   ]
  },
  {
   "cell_type": "code",
   "execution_count": 10,
   "metadata": {},
   "outputs": [],
   "source": [
    "\n",
    "response = client.audio.speech.create(\n",
    "  model=\"tts-1\",\n",
    "  voice=\"echo\",\n",
    "  input=text\n",
    ")\n",
    "\n",
    "response.stream_to_file(speech_file_path)"
   ]
  },
  {
   "cell_type": "code",
   "execution_count": null,
   "metadata": {},
   "outputs": [],
   "source": []
  }
 ],
 "metadata": {
  "kernelspec": {
   "display_name": "os-scheduling-algorithms-comparison-lB6uNwPT-py3.12",
   "language": "python",
   "name": "python3"
  },
  "language_info": {
   "codemirror_mode": {
    "name": "ipython",
    "version": 3
   },
   "file_extension": ".py",
   "mimetype": "text/x-python",
   "name": "python",
   "nbconvert_exporter": "python",
   "pygments_lexer": "ipython3",
   "version": "3.12.0"
  }
 },
 "nbformat": 4,
 "nbformat_minor": 2
}
