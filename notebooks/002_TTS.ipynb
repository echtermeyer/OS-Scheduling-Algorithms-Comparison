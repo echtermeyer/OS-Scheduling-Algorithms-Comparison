{
 "cells": [
  {
   "cell_type": "code",
   "execution_count": 2,
   "metadata": {},
   "outputs": [],
   "source": [
    "from pathlib import Path\n",
    "from openai import OpenAI\n",
    "import os\n",
    "from key import OPENAI_API_KEY\n",
    "# from dotenv import load_dotenv\n",
    "# load_dotenv()\n",
    "\n",
    "client = OpenAI(\n",
    "    api_key=OPENAI_API_KEY,\n",
    ")"
   ]
  },
  {
   "cell_type": "code",
   "execution_count": 2,
   "metadata": {},
   "outputs": [
    {
     "data": {
      "text/plain": [
       "WindowsPath('d:/GitHub/OS-Scheduling-Algorithms-Comparison/voice/fcfs.mp3')"
      ]
     },
     "execution_count": 2,
     "metadata": {},
     "output_type": "execute_result"
    }
   ],
   "source": [
    "speech_file_path = Path().cwd().parent / \"voice/fcfs.mp3\"\n",
    "speech_file_path"
   ]
  },
  {
   "cell_type": "code",
   "execution_count": 3,
   "metadata": {},
   "outputs": [],
   "source": [
    "# text = \"\"\"\n",
    "# Now, let's talk about how fair these scheduling algorithms are to each process and the number of context switches required. Think of unfairness as how unevenly processes have to wait. We measure this using the unfairness score, which is the standard deviation of waiting times. A high score means some processes wait a lot longer than others.\n",
    "\n",
    "# Then, there's context switches - basically, how often the CPU stops working on one process to switch to another. Fewer switches mean the system is more efficient, as each switch takes time and resources.\n",
    "# \"\"\""
   ]
  },
  {
   "cell_type": "code",
   "execution_count": 4,
   "metadata": {},
   "outputs": [],
   "source": [
    "text = \"\"\"\n",
    "Welcome to our detailed exploration of the First-Come, First-Serve, or FCFS, scheduling algorithm. This method is widely used in various computing environments due to its simplicity and fairness. Let's delve into how it works, its advantages, limitations, and some specific scenarios.\n",
    " \n",
    "Imagine a series of processes, each with different requirements, arriving at a CPU for processing. In FCFS, these processes are arranged in a queue, much like customers waiting in line at a store. The key principle here is: the first process to arrive is the first to be served. \n",
    "\n",
    "Now, observe how the first process in our queue is taken up by the CPU. It's processed completely before the CPU moves on to the next one. As new processes arrive, they join the end of the queue. The processes move up in the queue as each preceding task completes. This cycle continues until there are no processes left\n",
    "\n",
    "Let's summarize what we just learned. Processes are queued in the order they arrive. The first process is processed entirely before moving on to the next. This cycle continues until all processes are completed.\n",
    "\n",
    "Let's take a closer look at this flow chart. Each horizontal line represents a different process, with time moving from left to right. You can see how the first process starts and continues uninterrupted until its completion. Once it's finished, the next process begins, and so on. This illustrates the sequential nature of FCFS. The length of each process's bar shows its duration in the CPU. The chart demonstrates how later processes might have to wait a significant amount of time if earlier processes are lengthy, which is a critical aspect of understanding the efficiency and limitations of the FCFS approach.\n",
    "\n",
    "Now let's get to the Pros and Cons of FCFS.\n",
    "Let's consider the positives. Simplicity is a key advantage. FCFS is easy to implement and understand, making it ideal for basic systems. It's inherently fair. Each process gets the same treatment, regardless of its nature or requirements. And importantly, there's no starvation. Unlike other algorithms, FCFS doesn't let higher-priority processes delay others.\n",
    "\n",
    "However, this method is best suited for systems where prioritization isn't crucial. It's not ideal for real-time processing where task urgency can vary significantly.\n",
    "\n",
    "\n",
    "FCFS also has following drawbacks. Long waiting times can occur, especially noticeable when a lengthy task precedes shorter ones. Secondly, FCFS can't prioritize tasks. Urgent processes might wait unnecessarily. And lastly, its non-preemptive nature means a task, once started, runs to completion. This can lead to inefficiencies, particularly when high-priority tasks arrive mid-way through a long process.\n",
    "\n",
    "In conclusion, while FCFS is a fundamental and equitable approach to process scheduling, its application is best suited for specific scenarios. Its simplicity can be a significant advantage, but the lack of flexibility and prioritization capabilities are noteworthy limitations.\n",
    "\n",
    "\"\"\""
   ]
  },
  {
   "cell_type": "code",
   "execution_count": 5,
   "metadata": {},
   "outputs": [
    {
     "name": "stderr",
     "output_type": "stream",
     "text": [
      "C:\\Users\\voelk\\AppData\\Local\\Temp\\ipykernel_24108\\4255184783.py:3: DeprecationWarning: Due to a bug, this method doesn't actually stream the response content, `.with_streaming_response.method()` should be used instead\n",
      "  response.stream_to_file(speech_file_path)\n"
     ]
    }
   ],
   "source": [
    "response = client.audio.speech.create(model=\"tts-1\", voice=\"echo\", input=text)\n",
    "\n",
    "response.stream_to_file(speech_file_path)"
   ]
  }
 ],
 "metadata": {
  "kernelspec": {
   "display_name": "os-scheduling-algorithms-comparison-lB6uNwPT-py3.12",
   "language": "python",
   "name": "python3"
  },
  "language_info": {
   "codemirror_mode": {
    "name": "ipython",
    "version": 3
   },
   "file_extension": ".py",
   "mimetype": "text/x-python",
   "name": "python",
   "nbconvert_exporter": "python",
   "pygments_lexer": "ipython3",
   "version": "3.10.0"
  }
 },
 "nbformat": 4,
 "nbformat_minor": 2
}
