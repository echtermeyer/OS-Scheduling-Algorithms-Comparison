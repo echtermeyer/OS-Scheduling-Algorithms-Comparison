{
 "cells": [
  {
   "cell_type": "code",
   "execution_count": 1,
   "metadata": {},
   "outputs": [],
   "source": [
    "from pathlib import Path\n",
    "from openai import OpenAI\n",
    "import os\n",
    "from key import OPENAI_API_KEY\n",
    "# from dotenv import load_dotenv\n",
    "# load_dotenv()\n",
    "\n",
    "client = OpenAI(\n",
    "    api_key=OPENAI_API_KEY,\n",
    ")"
   ]
  },
  {
   "cell_type": "code",
   "execution_count": 2,
   "metadata": {},
   "outputs": [
    {
     "data": {
      "text/plain": [
       "WindowsPath('d:/GitHub/OS-Scheduling-Algorithms-Comparison/voice/rr.mp3')"
      ]
     },
     "execution_count": 2,
     "metadata": {},
     "output_type": "execute_result"
    }
   ],
   "source": [
    "speech_file_path = Path().cwd().parent / \"voice/rr.mp3\"\n",
    "speech_file_path"
   ]
  },
  {
   "cell_type": "code",
   "execution_count": 3,
   "metadata": {},
   "outputs": [],
   "source": [
    "# text = \"\"\"\n",
    "# Now, let's talk about how fair these scheduling algorithms are to each process and the number of context switches required. Think of unfairness as how unevenly processes have to wait. We measure this using the unfairness score, which is the standard deviation of waiting times. A high score means some processes wait a lot longer than others.\n",
    "\n",
    "# Then, there's context switches - basically, how often the CPU stops working on one process to switch to another. Fewer switches mean the system is more efficient, as each switch takes time and resources.\n",
    "# \"\"\""
   ]
  },
  {
   "cell_type": "code",
   "execution_count": 4,
   "metadata": {},
   "outputs": [],
   "source": [
    "text = \"\"\"\n",
    "Now, let's delve into another critical scheduling algorithm: the Round Robin algorithm. This method is widely adopted in various computing environments, renowned for its capacity to balance fairness and responsiveness.\n",
    "\n",
    "Similar to our previous discussion, envision a queue of processes awaiting their turn at the CPU. However, Round Robin introduces a distinct approach: CPU time is divided into quantums, akin to discrete intervals. Each process is allocated a quantum to execute. Following each quantum, the current process is either completed or returned to the queue, courtesy of preemptive scheduling. If another process joins the queue, it will be appended to the end and will receive its turn according to the Round Robin scheduling policy.\n",
    "\n",
    "In summary, Round Robin schedules segments of CPU time into quantums, providing each process with an opportunity to execute within its designated interval. Post-execution, processes are either finalized or re-enqueued, reflecting preemptive scheduling principles.\n",
    "\n",
    "Now, let's examine the sequence diagramm. Each process is given equal time to run in a rotating order, which may lead to several rounds until all processes are completed. The diagram also subtly indicates the importance of quantum size; too small a quantum can lead to excessive context switching, while too large a quantum can cause longer wait times, resembling first-come, first-served scheduling.\n",
    "\n",
    "Let's now consider the advantages and disadvantages of Round Robin scheduling.\n",
    "\n",
    "On the positive front, the fixed time slice fosters predictability and equity. Round Robin is esteemed for its swift response times, rendering it suitable for real-time processing. Furthermore, it mitigates the risk of process starvation, guaranteeing fair execution for all processes. Its preemptive nature facilitates efficient task management, enhancing overall system performance.\n",
    "\n",
    "However, there are nuances to consider. Efficient operation hinges upon appropriately sizing the quantum and balancing waiting times with context switches to optimize performance.\n",
    "\n",
    "On the downside, the frequent context switches inherent to Round Robin scheduling may impede throughput, particularly for long-running processes. Moreover, its inability to prioritize tasks may result in delays for urgent processes awaiting execution.\n",
    "\n",
    "In conclusion, Round Robin scheduling stands as a robust solution, adept at maintaining fairness and responsiveness across diverse computing environments. Despite its limitations, it remains a cornerstone scheduling algorithm, essential for orchestrating efficient task execution.\n",
    "\"\"\""
   ]
  },
  {
   "cell_type": "code",
   "execution_count": 5,
   "metadata": {},
   "outputs": [],
   "source": [
    "response = client.audio.speech.create(model=\"tts-1\", voice=\"echo\", input=text)\n",
    "\n",
    "response.stream_to_file(speech_file_path)"
   ]
  }
 ],
 "metadata": {
  "kernelspec": {
   "display_name": "os-scheduling-algorithms-comparison-lB6uNwPT-py3.12",
   "language": "python",
   "name": "python3"
  },
  "language_info": {
   "codemirror_mode": {
    "name": "ipython",
    "version": 3
   },
   "file_extension": ".py",
   "mimetype": "text/x-python",
   "name": "python",
   "nbconvert_exporter": "python",
   "pygments_lexer": "ipython3",
   "version": "3.12.0"
  }
 },
 "nbformat": 4,
 "nbformat_minor": 2
}
