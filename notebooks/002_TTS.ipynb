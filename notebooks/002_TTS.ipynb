{
 "cells": [
  {
   "cell_type": "code",
   "execution_count": 2,
   "metadata": {},
   "outputs": [],
   "source": [
    "from pathlib import Path\n",
    "from openai import OpenAI\n",
    "\n",
    "from dotenv import load_dotenv\n",
    "load_dotenv()\n",
    "\n",
    "client = OpenAI()"
   ]
  },
  {
   "cell_type": "code",
   "execution_count": 3,
   "metadata": {},
   "outputs": [
    {
     "data": {
      "text/plain": [
       "WindowsPath('c:/Users/felix/OneDrive/Dokumente/DHBW/Kurse/Semester_5/Integrationsseminar/OS-Scheduling-Algorithms-Comparison/voice/intro_test.mp3')"
      ]
     },
     "execution_count": 3,
     "metadata": {},
     "output_type": "execute_result"
    }
   ],
   "source": [
    "speech_file_path = Path().cwd().parent / \"voice/intro_test.mp3\"\n",
    "speech_file_path"
   ]
  },
  {
   "cell_type": "code",
   "execution_count": 6,
   "metadata": {},
   "outputs": [],
   "source": [
    "text = \"\"\"\n",
    "All of us know this problem. You are looking at your to-do list and there are just so many things to do. It quickly becomes totally overwhelming. What should I start with? \n",
    "Do I just do one after another? Do I switch in between the different tasks? Or can I assign priorities to some?\n",
    "How can I make sure I get all of these things done? Deciding this for your daily or weekly tasks is already hard enough, but now imagine there are hundreds of task in a very short timeframe. That would be impossible right?\n",
    "Well actually that is exactly what a computer has to do. \n",
    "Working on, prioritizing and finishing different processes is one of the main tasks a computer has to fulfill successfully. But how does it do so efficiently?\n",
    "This is what we want to learn about today.\n",
    "\"\"\""
   ]
  },
  {
   "cell_type": "code",
   "execution_count": 7,
   "metadata": {},
   "outputs": [
    {
     "name": "stderr",
     "output_type": "stream",
     "text": [
      "C:\\Users\\felix\\AppData\\Local\\Temp/ipykernel_41832/1433628028.py:7: DeprecationWarning: Due to a bug, this method doesn't actually stream the response content, `.with_streaming_response.method()` should be used instead\n",
      "  response.stream_to_file(speech_file_path)\n"
     ]
    }
   ],
   "source": [
    "\n",
    "response = client.audio.speech.create(\n",
    "  model=\"tts-1\",\n",
    "  voice=\"echo\",\n",
    "  input=text\n",
    ")\n",
    "\n",
    "response.stream_to_file(speech_file_path)"
   ]
  },
  {
   "cell_type": "code",
   "execution_count": null,
   "metadata": {},
   "outputs": [],
   "source": []
  }
 ],
 "metadata": {
  "kernelspec": {
   "display_name": "os-scheduling-algorithms-comparison-lB6uNwPT-py3.12",
   "language": "python",
   "name": "python3"
  },
  "language_info": {
   "codemirror_mode": {
    "name": "ipython",
    "version": 3
   },
   "file_extension": ".py",
   "mimetype": "text/x-python",
   "name": "python",
   "nbconvert_exporter": "python",
   "pygments_lexer": "ipython3",
   "version": "3.10.0"
  }
 },
 "nbformat": 4,
 "nbformat_minor": 2
}
