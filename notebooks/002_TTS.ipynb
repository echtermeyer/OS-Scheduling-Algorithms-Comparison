{
 "cells": [
  {
   "cell_type": "code",
   "execution_count": 7,
   "metadata": {},
   "outputs": [],
   "source": [
    "from pathlib import Path\n",
    "from openai import OpenAI\n",
    "import os\n",
    "from key import OPENAI_API_KEY\n",
    "# from dotenv import load_dotenv\n",
    "# load_dotenv()\n",
    "\n",
    "client = OpenAI(\n",
    "    api_key=OPENAI_API_KEY,\n",
    ")"
   ]
  },
  {
   "cell_type": "code",
   "execution_count": 8,
   "metadata": {},
   "outputs": [
    {
     "data": {
      "text/plain": [
       "WindowsPath('c:/Users/I552412/GitHub/OS-Scheduling-Algorithms-Comparison/voice/operating_systems.mp3')"
      ]
     },
     "execution_count": 8,
     "metadata": {},
     "output_type": "execute_result"
    }
   ],
   "source": [
    "speech_file_path = Path().cwd().parent / \"voice/operating_systems.mp3\"\n",
    "speech_file_path"
   ]
  },
  {
   "cell_type": "code",
   "execution_count": 9,
   "metadata": {},
   "outputs": [],
   "source": [
    "# text = \"\"\"\n",
    "# Now, let's talk about how fair these scheduling algorithms are to each process and the number of context switches required. Think of unfairness as how unevenly processes have to wait. We measure this using the unfairness score, which is the standard deviation of waiting times. A high score means some processes wait a lot longer than others.\n",
    "\n",
    "# Then, there's context switches - basically, how often the CPU stops working on one process to switch to another. Fewer switches mean the system is more efficient, as each switch takes time and resources.\n",
    "# \"\"\""
   ]
  },
  {
   "cell_type": "code",
   "execution_count": 11,
   "metadata": {},
   "outputs": [],
   "source": [
    "text = \"\"\"\n",
    "In the realm of major operating systems like Windows, MacOS, and Linux, scheduling algorithms are key for process management. These systems utilize preemptive scheduling and incorporate priority levels to manage processes efficiently.\n",
    "\n",
    "Windows stands out with its 32 priority levels, divided between real-time and variable processes. It dynamically adjusts process priorities and uses for example Round Robin and First Come First Serve within the same priority level.\n",
    "\n",
    "MacOS opts for a simpler method, categorizing processes into four Quality of Service priority levels.\n",
    "\n",
    "A major challenge for these operating systems is distributing processes across CPU cores, particularly with the advent of CPUs supporting hyperthreading and the introduction of processors like Intel's 12th Generation and Apple's M Series, which have Performance and Efficiency cores. MacOS, for instance, directs lower priority processes to Efficiency cores, while medium and high priority processes can use both core types.\n",
    "\n",
    "\"\"\""
   ]
  },
  {
   "cell_type": "code",
   "execution_count": 12,
   "metadata": {},
   "outputs": [
    {
     "name": "stderr",
     "output_type": "stream",
     "text": [
      "C:\\Users\\I552412\\AppData\\Local\\Temp\\ipykernel_35800\\4255184783.py:3: DeprecationWarning: Due to a bug, this method doesn't actually stream the response content, `.with_streaming_response.method()` should be used instead\n",
      "  response.stream_to_file(speech_file_path)\n"
     ]
    }
   ],
   "source": [
    "response = client.audio.speech.create(model=\"tts-1\", voice=\"echo\", input=text)\n",
    "\n",
    "response.stream_to_file(speech_file_path)"
   ]
  }
 ],
 "metadata": {
  "kernelspec": {
   "display_name": "os-scheduling-algorithms-comparison-lB6uNwPT-py3.12",
   "language": "python",
   "name": "python3"
  },
  "language_info": {
   "codemirror_mode": {
    "name": "ipython",
    "version": 3
   },
   "file_extension": ".py",
   "mimetype": "text/x-python",
   "name": "python",
   "nbconvert_exporter": "python",
   "pygments_lexer": "ipython3",
   "version": "3.12.1"
  }
 },
 "nbformat": 4,
 "nbformat_minor": 2
}
